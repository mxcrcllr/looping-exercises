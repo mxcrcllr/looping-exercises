{
 "cells": [
  {
   "cell_type": "markdown",
   "metadata": {},
   "source": [
    "## Lab 2 Exercise 1\n",
    "#### A teacher named Mrs. Rivera who loved making math fun for her students. One day, a student named Mia asked how to calculate powers, like (2^7). Mrs. Rivera explained, “Imagine you need to multiply 2 by itself seven times. We can solve this using a python code utilizing  special method called recursion to solve this,” \n",
    "### Can you help the class of Mrs. Rivera by providing the recursive method to calculate powers?"
   ]
  },
  {
   "cell_type": "code",
   "execution_count": 1,
   "metadata": {},
   "outputs": [
    {
     "name": "stdout",
     "output_type": "stream",
     "text": [
      "2 raised to the power of 7 is: 128\n"
     ]
    }
   ],
   "source": [
    "def power(base, exp):\n",
    "    if exp == 0:\n",
    "        return 1\n",
    "    else:\n",
    "        return base * power(base, exp - 1)\n",
    "\n",
    "base = 2  \n",
    "exp = 7    \n",
    "\n",
    "result = power(base, exp)\n",
    "print(f\"{base} raised to the power of {exp} is: {result}\")\n"
   ]
  },
  {
   "cell_type": "markdown",
   "metadata": {},
   "source": [
    "## Lab 2 Exercise 2\n",
    "#### compute for the cube of integers. \n",
    "\n",
    "Steps:\n",
    "1. Input the size of the array.\n",
    "2. input the elements of the array\n",
    "3. display the cube of each element\n",
    "\n",
    "Sample output\n",
    "\n",
    "Enter the size of the array : 3\n",
    "Enter the elements separated by space: 3 10 20\n",
    "27\n",
    "1000\n",
    "8000"
   ]
  },
  {
   "cell_type": "code",
   "execution_count": 4,
   "metadata": {},
   "outputs": [
    {
     "name": "stdout",
     "output_type": "stream",
     "text": [
      "27\n",
      "1000\n",
      "8000\n"
     ]
    }
   ],
   "source": [
    "size = int(input(\"Enter the size of the array: \"))\n",
    "elements = list(map(int, input(\"Enter the elements separated by space: \").split()))\n",
    "\n",
    "for num in elements:\n",
    "    cube = num ** 3\n",
    "    print(cube)\n"
   ]
  },
  {
   "cell_type": "markdown",
   "metadata": {},
   "source": [
    "## Lab 2 Exercise 3\n",
    "#### Generate a hollow square based on the + integer input side length n."
   ]
  },
  {
   "cell_type": "raw",
   "metadata": {
    "vscode": {
     "languageId": "raw"
    }
   },
   "source": [
    "Sample output\n",
    "\n",
    "Enter the side length of the square: 6\n",
    "xxxxxx\n",
    "x    x\n",
    "x    x\n",
    "x    x\n",
    "x    x\n",
    "xxxxxx"
   ]
  },
  {
   "cell_type": "code",
   "execution_count": 7,
   "metadata": {},
   "outputs": [
    {
     "name": "stdout",
     "output_type": "stream",
     "text": [
      "xxxxxx\n",
      "x    x\n",
      "x    x\n",
      "x    x\n",
      "x    x\n",
      "xxxxxx\n"
     ]
    }
   ],
   "source": [
    "n = int(input(\"Enter the side length of the square: \"))\n",
    "\n",
    "for i in range(n):\n",
    "    if i == 0 or i == n - 1:\n",
    "        print('x' * n)\n",
    "    else:\n",
    "        print('x' + ' ' * (n - 2) + 'x')\n"
   ]
  },
  {
   "cell_type": "markdown",
   "metadata": {},
   "source": [
    "### Lab 2 Exercise 4\n",
    "#### Generate an inverted right triangle of height n.\n"
   ]
  },
  {
   "cell_type": "raw",
   "metadata": {},
   "source": [
    "Sample output\n",
    "\n",
    "Enter the height of the triangle: 6\n",
    "******\n",
    "*****\n",
    "****\n",
    "***\n",
    "**\n",
    "*"
   ]
  },
  {
   "cell_type": "code",
   "execution_count": 8,
   "metadata": {},
   "outputs": [
    {
     "name": "stdout",
     "output_type": "stream",
     "text": [
      "******\n",
      "*****\n",
      "****\n",
      "***\n",
      "**\n",
      "*\n"
     ]
    }
   ],
   "source": [
    "n = int(input(\"Enter the height of the triangle: \"))\n",
    "\n",
    "for i in range(n, 0, -1):\n",
    "    print('*' * i)\n"
   ]
  }
 ],
 "metadata": {
  "kernelspec": {
   "display_name": "Python 3",
   "language": "python",
   "name": "python3"
  },
  "language_info": {
   "codemirror_mode": {
    "name": "ipython",
    "version": 3
   },
   "file_extension": ".py",
   "mimetype": "text/x-python",
   "name": "python",
   "nbconvert_exporter": "python",
   "pygments_lexer": "ipython3",
   "version": "3.12.1"
  }
 },
 "nbformat": 4,
 "nbformat_minor": 2
}
